{
 "cells": [
  {
   "cell_type": "markdown",
   "metadata": {},
   "source": [
    "# Topic Modeling Using Latent Dirichlet Allocation \n",
    "\n",
    "## We are going to use `nltk` and `gensim` python packages."
   ]
  },
  {
   "cell_type": "markdown",
   "metadata": {},
   "source": [
    "### Import necessary packages"
   ]
  },
  {
   "cell_type": "code",
   "execution_count": 1,
   "metadata": {},
   "outputs": [
    {
     "name": "stdout",
     "output_type": "stream",
     "text": [
      "[nltk_data] Downloading package wordnet to\n",
      "[nltk_data]     /Users/imsrgadich/nltk_data...\n",
      "[nltk_data]   Package wordnet is already up-to-date!\n"
     ]
    }
   ],
   "source": [
    "import pandas as pd\n",
    "from utilities import *\n",
    "import gensim\n",
    "from gensim.utils import simple_preprocess\n",
    "from gensim.parsing.preprocessing import STOPWORDS\n",
    "from nltk.stem import WordNetLemmatizer, SnowballStemmer\n",
    "from nltk.stem.porter import *\n",
    "import numpy as np\n",
    "import nltk\n",
    "\n",
    "nltk.download('wordnet') # update wordnet\n",
    "np.random.seed(42)"
   ]
  },
  {
   "cell_type": "markdown",
   "metadata": {},
   "source": [
    "### Get the data. We are going to use the Million Headlines from Kaggle\n",
    "\n",
    "https://www.kaggle.com/therohk/million-headlines/data"
   ]
  },
  {
   "cell_type": "code",
   "execution_count": 2,
   "metadata": {},
   "outputs": [],
   "source": [
    "documents = pd.read_csv('abcnews-date-text.csv', error_bad_lines=False) # error bad lines removes unreadable lines\n",
    "documents['headline_text'] = documents['headline_text'].str.replace(r\"[^A-Za-z0-9(),!?@\\'\\`\\\"\\_\\n]\", \" \") \n",
    "# remove all the special characters in the text\n",
    "documents['index'] = documents.index # adding the index column"
   ]
  },
  {
   "cell_type": "markdown",
   "metadata": {},
   "source": [
    "### Sanitize the text (remove http, @handle, @mail.com)"
   ]
  },
  {
   "cell_type": "code",
   "execution_count": 3,
   "metadata": {},
   "outputs": [],
   "source": [
    "documents = standardize_text(documents, 'headline_text')"
   ]
  },
  {
   "cell_type": "markdown",
   "metadata": {},
   "source": [
    "### Data Preprocessing"
   ]
  },
  {
   "cell_type": "code",
   "execution_count": 7,
   "metadata": {},
   "outputs": [],
   "source": [
    "def lemmatize_stemming(text):\n",
    "    stemmer = SnowballStemmer('english')\n",
    "    return stemmer.stem(WordNetLemmatizer().lemmatize(text,pos='v')) # lemmatize normalize the text to same\n",
    "                                                                     # tense. Here, \n",
    "\n",
    "def preprocess(text):\n",
    "    result = []\n",
    "    for token in gensim.utils.simple_preprocess(text): # simple_preprocess tokenizes the text\n",
    "        if token not in gensim.parsing.preprocessing.STOPWORDS and len(token) > 3:\n",
    "            result.append(lemmatize_stemming(token))\n",
    "    return result"
   ]
  },
  {
   "cell_type": "code",
   "execution_count": 8,
   "metadata": {},
   "outputs": [],
   "source": [
    "processed_docs = documents.headline_text.map(preprocess) # its is mapped for each row separately."
   ]
  },
  {
   "cell_type": "code",
   "execution_count": 14,
   "metadata": {},
   "outputs": [
    {
     "data": {
      "text/plain": [
       "1103665"
      ]
     },
     "execution_count": 14,
     "metadata": {},
     "output_type": "execute_result"
    }
   ],
   "source": [
    "processed_docs"
   ]
  },
  {
   "cell_type": "markdown",
   "metadata": {},
   "source": [
    "### Bag of words"
   ]
  },
  {
   "cell_type": "code",
   "execution_count": 15,
   "metadata": {},
   "outputs": [],
   "source": [
    "dictionary = gensim.corpora.Dictionary(processed_docs)"
   ]
  },
  {
   "cell_type": "code",
   "execution_count": 18,
   "metadata": {},
   "outputs": [
    {
     "name": "stdout",
     "output_type": "stream",
     "text": [
      "0 broadcast\n",
      "1 communiti\n",
      "2 decid\n",
      "3 licenc\n",
      "4 awar\n",
      "5 defam\n",
      "6 wit\n",
      "7 call\n",
      "8 infrastructur\n",
      "9 protect\n",
      "10 summit\n"
     ]
    }
   ],
   "source": [
    "# check the dictionary values\n",
    "count = 0\n",
    "for k,v in dictionary.iteritems():\n",
    "    print(k,v)\n",
    "    count += 1\n",
    "    if count > 10:\n",
    "        break"
   ]
  },
  {
   "cell_type": "code",
   "execution_count": 19,
   "metadata": {},
   "outputs": [],
   "source": [
    "# remove tokens which are in documents below 15 and are not above 0.5.\n",
    "# and keep only 1 lakh dictionary values.\n",
    "dictionary.filter_extremes(no_below=15,no_above=0.5,keep_n=100000)\n"
   ]
  },
  {
   "cell_type": "code",
   "execution_count": 20,
   "metadata": {},
   "outputs": [
    {
     "data": {
      "text/plain": [
       "14142"
      ]
     },
     "execution_count": 20,
     "metadata": {},
     "output_type": "execute_result"
    }
   ],
   "source": [
    "len(dictionary)"
   ]
  },
  {
   "cell_type": "markdown",
   "metadata": {},
   "source": [
    "### Create Bag of Words for each document"
   ]
  },
  {
   "cell_type": "code",
   "execution_count": 21,
   "metadata": {},
   "outputs": [],
   "source": [
    "bow_corpus = [dictionary.doc2bow(doc) for doc in processed_docs]"
   ]
  },
  {
   "cell_type": "code",
   "execution_count": 22,
   "metadata": {
    "scrolled": true
   },
   "outputs": [
    {
     "data": {
      "text/plain": [
       "[(76, 1), (112, 1), (483, 1), (4014, 1)]"
      ]
     },
     "execution_count": 22,
     "metadata": {},
     "output_type": "execute_result"
    }
   ],
   "source": [
    "bow_corpus[4310]"
   ]
  },
  {
   "cell_type": "code",
   "execution_count": 25,
   "metadata": {},
   "outputs": [
    {
     "name": "stdout",
     "output_type": "stream",
     "text": [
      "Word 76 (\"bushfir\") appears 1 times.\n",
      "Word 112 (\"help\") appears 1 times.\n",
      "Word 483 (\"rain\") appears 1 times.\n",
      "Word 4014 (\"dampen\") appears 1 times.\n"
     ]
    }
   ],
   "source": [
    "bow_doc_4310 = bow_corpus[4310]\n",
    "\n",
    "for i in range(len(bow_doc_4310)):\n",
    "    print(f\"Word {bow_doc_4310[i][0]} (\\\"{dictionary[bow_doc_4310[i][0]]}\\\") appears {bow_doc_4310[i][1]} times.\") "
   ]
  },
  {
   "cell_type": "markdown",
   "metadata": {},
   "source": [
    "### TF-IDF"
   ]
  },
  {
   "cell_type": "code",
   "execution_count": 38,
   "metadata": {},
   "outputs": [],
   "source": [
    "from gensim import corpora, models\n",
    "\n",
    "tfidf = models.TfidfModel(bow_corpus)\n",
    "tfidf_corpus = tfidf[bow_corpus]"
   ]
  },
  {
   "cell_type": "code",
   "execution_count": 40,
   "metadata": {},
   "outputs": [
    {
     "data": {
      "text/plain": [
       "gensim.interfaces.TransformedCorpus"
      ]
     },
     "execution_count": 40,
     "metadata": {},
     "output_type": "execute_result"
    }
   ],
   "source": [
    "type(tfidf_corpus)"
   ]
  },
  {
   "cell_type": "markdown",
   "metadata": {},
   "source": [
    "### Running LDA with BOW"
   ]
  },
  {
   "cell_type": "code",
   "execution_count": 28,
   "metadata": {},
   "outputs": [],
   "source": [
    "lda_bow = gensim.models.LdaMulticore(corpus=bow_corpus,num_topics=10,id2word=dictionary,passes=2, workers=2)"
   ]
  },
  {
   "cell_type": "code",
   "execution_count": 31,
   "metadata": {},
   "outputs": [
    {
     "name": "stdout",
     "output_type": "stream",
     "text": [
      "Topic: 0 \n",
      "Words: 0.020*\"council\" + 0.018*\"live\" + 0.015*\"water\" + 0.014*\"deal\" + 0.012*\"plan\" + 0.011*\"budget\" + 0.011*\"want\" + 0.011*\"royal\" + 0.011*\"vote\" + 0.011*\"push\"\n",
      "Topic: 1 \n",
      "Words: 0.020*\"help\" + 0.017*\"hospit\" + 0.014*\"work\" + 0.013*\"worker\" + 0.012*\"power\" + 0.011*\"urg\" + 0.011*\"farm\" + 0.010*\"fund\" + 0.010*\"feder\" + 0.010*\"health\"\n",
      "Topic: 2 \n",
      "Words: 0.023*\"adelaid\" + 0.020*\"perth\" + 0.020*\"open\" + 0.017*\"final\" + 0.015*\"tasmanian\" + 0.013*\"interview\" + 0.010*\"centr\" + 0.009*\"announc\" + 0.009*\"research\" + 0.009*\"drum\"\n",
      "Topic: 3 \n",
      "Words: 0.021*\"market\" + 0.019*\"south\" + 0.016*\"west\" + 0.015*\"share\" + 0.013*\"train\" + 0.012*\"bank\" + 0.011*\"island\" + 0.010*\"build\" + 0.010*\"life\" + 0.009*\"take\"\n",
      "Topic: 4 \n",
      "Words: 0.032*\"charg\" + 0.031*\"court\" + 0.024*\"murder\" + 0.020*\"face\" + 0.018*\"alleg\" + 0.017*\"jail\" + 0.016*\"accus\" + 0.016*\"woman\" + 0.015*\"sydney\" + 0.014*\"child\"\n",
      "Topic: 5 \n",
      "Words: 0.017*\"countri\" + 0.015*\"nation\" + 0.015*\"rural\" + 0.015*\"chang\" + 0.014*\"hour\" + 0.012*\"servic\" + 0.012*\"minist\" + 0.011*\"concern\" + 0.011*\"victoria\" + 0.011*\"need\"\n",
      "Topic: 6 \n",
      "Words: 0.052*\"polic\" + 0.024*\"attack\" + 0.021*\"kill\" + 0.015*\"shoot\" + 0.014*\"crash\" + 0.014*\"dead\" + 0.013*\"arrest\" + 0.012*\"investig\" + 0.011*\"road\" + 0.011*\"protest\"\n",
      "Topic: 7 \n",
      "Words: 0.043*\"australian\" + 0.034*\"trump\" + 0.019*\"school\" + 0.019*\"coast\" + 0.017*\"die\" + 0.015*\"miss\" + 0.014*\"win\" + 0.012*\"gold\" + 0.012*\"record\" + 0.010*\"close\"\n",
      "Topic: 8 \n",
      "Words: 0.028*\"elect\" + 0.020*\"canberra\" + 0.017*\"north\" + 0.015*\"tasmania\" + 0.014*\"labor\" + 0.014*\"turnbul\" + 0.013*\"say\" + 0.013*\"price\" + 0.013*\"hous\" + 0.011*\"driver\"\n",
      "Topic: 9 \n",
      "Words: 0.049*\"australia\" + 0.025*\"queensland\" + 0.020*\"govern\" + 0.017*\"world\" + 0.016*\"test\" + 0.016*\"women\" + 0.014*\"donald\" + 0.011*\"china\" + 0.009*\"say\" + 0.009*\"victorian\"\n"
     ]
    }
   ],
   "source": [
    "for idx, topic in lda_bow.print_topics(-1):\n",
    "    print('Topic: {} \\nWords: {}'.format(idx, topic))"
   ]
  },
  {
   "cell_type": "code",
   "execution_count": 41,
   "metadata": {},
   "outputs": [],
   "source": [
    "lda_model_tfidf = gensim.models.LdaMulticore(tfidf_corpus, num_topics=10, id2word=dictionary, passes=2, workers=4)"
   ]
  },
  {
   "cell_type": "code",
   "execution_count": 42,
   "metadata": {},
   "outputs": [
    {
     "name": "stdout",
     "output_type": "stream",
     "text": [
      "Topic: 0 Word: 0.007*\"juli\" + 0.007*\"friday\" + 0.007*\"march\" + 0.007*\"septemb\" + 0.006*\"australian\" + 0.006*\"toni\" + 0.006*\"outback\" + 0.006*\"dollar\" + 0.005*\"music\" + 0.005*\"young\"\n",
      "Topic: 1 Word: 0.010*\"australia\" + 0.007*\"ash\" + 0.007*\"test\" + 0.006*\"coast\" + 0.005*\"cricket\" + 0.005*\"india\" + 0.005*\"west\" + 0.005*\"england\" + 0.004*\"billion\" + 0.004*\"southern\"\n",
      "Topic: 2 Word: 0.012*\"crash\" + 0.010*\"kill\" + 0.008*\"dead\" + 0.006*\"michael\" + 0.006*\"die\" + 0.006*\"malcolm\" + 0.005*\"thursday\" + 0.005*\"stori\" + 0.005*\"mount\" + 0.005*\"plane\"\n",
      "Topic: 3 Word: 0.023*\"countri\" + 0.021*\"hour\" + 0.010*\"weather\" + 0.008*\"farm\" + 0.007*\"novemb\" + 0.006*\"decemb\" + 0.005*\"jam\" + 0.005*\"island\" + 0.005*\"quiz\" + 0.005*\"wind\"\n",
      "Topic: 4 Word: 0.017*\"charg\" + 0.017*\"trump\" + 0.016*\"polic\" + 0.015*\"murder\" + 0.012*\"court\" + 0.010*\"alleg\" + 0.010*\"woman\" + 0.009*\"death\" + 0.009*\"jail\" + 0.009*\"podcast\"\n",
      "Topic: 5 Word: 0.009*\"leagu\" + 0.008*\"elect\" + 0.008*\"queensland\" + 0.008*\"final\" + 0.007*\"world\" + 0.006*\"royal\" + 0.006*\"abbott\" + 0.006*\"rugbi\" + 0.005*\"commiss\" + 0.005*\"octob\"\n",
      "Topic: 6 Word: 0.008*\"celebr\" + 0.006*\"dairi\" + 0.006*\"august\" + 0.006*\"energi\" + 0.006*\"june\" + 0.006*\"korea\" + 0.005*\"coal\" + 0.005*\"say\" + 0.005*\"know\" + 0.004*\"capit\"\n",
      "Topic: 7 Word: 0.014*\"rural\" + 0.010*\"govern\" + 0.007*\"fund\" + 0.007*\"turnbul\" + 0.006*\"plan\" + 0.006*\"chang\" + 0.006*\"council\" + 0.006*\"nation\" + 0.005*\"budget\" + 0.005*\"say\"\n",
      "Topic: 8 Word: 0.014*\"interview\" + 0.012*\"market\" + 0.008*\"news\" + 0.008*\"grandstand\" + 0.008*\"share\" + 0.006*\"david\" + 0.006*\"asylum\" + 0.006*\"wall\" + 0.005*\"seeker\" + 0.005*\"univers\"\n",
      "Topic: 9 Word: 0.012*\"drum\" + 0.009*\"sport\" + 0.008*\"marriag\" + 0.007*\"mental\" + 0.007*\"christma\" + 0.006*\"john\" + 0.005*\"live\" + 0.005*\"blog\" + 0.005*\"care\" + 0.005*\"cancer\"\n"
     ]
    }
   ],
   "source": [
    "for idx, topic in lda_model_tfidf.print_topics(-1):\n",
    "    print('Topic: {} Word: {}'.format(idx, topic))"
   ]
  }
 ],
 "metadata": {
  "kernelspec": {
   "display_name": "Python 3",
   "language": "python",
   "name": "python3"
  },
  "language_info": {
   "codemirror_mode": {
    "name": "ipython",
    "version": 3
   },
   "file_extension": ".py",
   "mimetype": "text/x-python",
   "name": "python",
   "nbconvert_exporter": "python",
   "pygments_lexer": "ipython3",
   "version": "3.7.2"
  }
 },
 "nbformat": 4,
 "nbformat_minor": 2
}
